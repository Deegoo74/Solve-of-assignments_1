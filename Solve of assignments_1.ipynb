{
 "cells": [
  {
   "cell_type": "markdown",
   "id": "77639bb4",
   "metadata": {},
   "source": [
    "### Data Types\n"
   ]
  },
  {
   "cell_type": "code",
   "execution_count": 6,
   "id": "58876d11",
   "metadata": {},
   "outputs": [
    {
     "name": "stdout",
     "output_type": "stream",
     "text": [
      "<class 'int'>\n"
     ]
    }
   ],
   "source": [
    "x=5\n",
    "print(type(x))\n"
   ]
  },
  {
   "cell_type": "code",
   "execution_count": 7,
   "id": "c793a548",
   "metadata": {},
   "outputs": [
    {
     "name": "stdout",
     "output_type": "stream",
     "text": [
      "<class 'str'>\n"
     ]
    }
   ],
   "source": [
    "x=\"Hello World\"\n",
    "print(type(x))"
   ]
  },
  {
   "cell_type": "code",
   "execution_count": 8,
   "id": "0056ff0d",
   "metadata": {},
   "outputs": [
    {
     "name": "stdout",
     "output_type": "stream",
     "text": [
      "<class 'float'>\n"
     ]
    }
   ],
   "source": [
    "x=20.5\n",
    "print(type(x))"
   ]
  },
  {
   "cell_type": "code",
   "execution_count": 9,
   "id": "4187b0cd",
   "metadata": {},
   "outputs": [
    {
     "name": "stdout",
     "output_type": "stream",
     "text": [
      "<class 'list'>\n"
     ]
    }
   ],
   "source": [
    "x=[\"apple\",\"banana\",\"cherry\"]\n",
    "print(type(x))"
   ]
  },
  {
   "cell_type": "code",
   "execution_count": 10,
   "id": "81d27176",
   "metadata": {},
   "outputs": [
    {
     "name": "stdout",
     "output_type": "stream",
     "text": [
      "<class 'tuple'>\n"
     ]
    }
   ],
   "source": [
    "x=(\"apple\",\"banana\",\"cherry\")\n",
    "print(type(x))"
   ]
  },
  {
   "cell_type": "code",
   "execution_count": 11,
   "id": "68bd3bee",
   "metadata": {},
   "outputs": [
    {
     "name": "stdout",
     "output_type": "stream",
     "text": [
      "<class 'dict'>\n"
     ]
    }
   ],
   "source": [
    "x={\"name\":\"john\",\"age\":36}\n",
    "print(type (x))"
   ]
  },
  {
   "cell_type": "code",
   "execution_count": 12,
   "id": "34ee7623",
   "metadata": {},
   "outputs": [
    {
     "name": "stdout",
     "output_type": "stream",
     "text": [
      "<class 'bool'>\n"
     ]
    }
   ],
   "source": [
    "x=True\n",
    "print ( type (x))"
   ]
  },
  {
   "cell_type": "markdown",
   "id": "fb11a73f",
   "metadata": {},
   "source": [
    "### Exercies on numbers"
   ]
  },
  {
   "cell_type": "code",
   "execution_count": 13,
   "id": "0e680e79",
   "metadata": {},
   "outputs": [
    {
     "name": "stdout",
     "output_type": "stream",
     "text": [
      "5.0\n"
     ]
    }
   ],
   "source": [
    "x=5\n",
    "x=float(x)\n",
    "print(x)"
   ]
  },
  {
   "cell_type": "code",
   "execution_count": 14,
   "id": "4e8501d8",
   "metadata": {},
   "outputs": [
    {
     "name": "stdout",
     "output_type": "stream",
     "text": [
      "5\n"
     ]
    }
   ],
   "source": [
    "x=5.5\n",
    "x=int(x)\n",
    "print(x)"
   ]
  },
  {
   "cell_type": "markdown",
   "id": "63e0db34",
   "metadata": {},
   "source": [
    "\n",
    "### Exercise on string\n"
   ]
  },
  {
   "cell_type": "code",
   "execution_count": 22,
   "id": "86cba8f8",
   "metadata": {},
   "outputs": [
    {
     "name": "stdout",
     "output_type": "stream",
     "text": [
      "11\n"
     ]
    }
   ],
   "source": [
    "x=\"Hello World\"\n",
    "print(len(x))\n"
   ]
  },
  {
   "cell_type": "markdown",
   "id": "13d3beaa",
   "metadata": {},
   "source": [
    "### Get the first character of the string txt.\n",
    "\n"
   ]
  },
  {
   "cell_type": "code",
   "execution_count": 20,
   "id": "482f2050",
   "metadata": {},
   "outputs": [
    {
     "name": "stdout",
     "output_type": "stream",
     "text": [
      "H\n"
     ]
    }
   ],
   "source": [
    "txt=\"Hello World\"\n",
    "print (txt[0])"
   ]
  },
  {
   "cell_type": "markdown",
   "id": "d6a5f811",
   "metadata": {},
   "source": [
    "### Get the characters from index 2 to index 4 (llo).\n"
   ]
  },
  {
   "cell_type": "code",
   "execution_count": 23,
   "id": "8a539355",
   "metadata": {},
   "outputs": [
    {
     "name": "stdout",
     "output_type": "stream",
     "text": [
      "llo\n"
     ]
    }
   ],
   "source": [
    "txt=\"Hello World\"\n",
    "print(txt[2:5])"
   ]
  },
  {
   "cell_type": "markdown",
   "id": "7b5bbe06",
   "metadata": {},
   "source": [
    "##### Return the string without any whitespace at the beginning or the end."
   ]
  },
  {
   "cell_type": "code",
   "execution_count": 25,
   "id": "866fbbeb",
   "metadata": {},
   "outputs": [
    {
     "name": "stdout",
     "output_type": "stream",
     "text": [
      "Hello World\n"
     ]
    }
   ],
   "source": [
    "txt=\" Hello World \"\n",
    "print(txt.strip())"
   ]
  },
  {
   "cell_type": "markdown",
   "id": "220d2a56",
   "metadata": {},
   "source": [
    "### Convert the value of `txt` to upper case.\n"
   ]
  },
  {
   "cell_type": "code",
   "execution_count": 27,
   "id": "7f64cc38",
   "metadata": {},
   "outputs": [
    {
     "name": "stdout",
     "output_type": "stream",
     "text": [
      "HELLO WORLD\n"
     ]
    }
   ],
   "source": [
    "txt=\"hello world\"\n",
    "print(txt.upper())"
   ]
  },
  {
   "cell_type": "markdown",
   "id": "c520712d",
   "metadata": {},
   "source": [
    "### Convert the value of `txt` to lower case.\n"
   ]
  },
  {
   "cell_type": "code",
   "execution_count": 28,
   "id": "6e825639",
   "metadata": {},
   "outputs": [
    {
     "name": "stdout",
     "output_type": "stream",
     "text": [
      "hello world\n"
     ]
    }
   ],
   "source": [
    "txt=\"HELLO WORLD\"\n",
    "print(txt.lower())"
   ]
  },
  {
   "cell_type": "markdown",
   "id": "f1eeaecc",
   "metadata": {},
   "source": [
    "#### Replace the character` H` with a `J`\n"
   ]
  },
  {
   "cell_type": "code",
   "execution_count": 30,
   "id": "29d3cccd",
   "metadata": {},
   "outputs": [
    {
     "name": "stdout",
     "output_type": "stream",
     "text": [
      "Jello World\n"
     ]
    }
   ],
   "source": [
    "txt=\"Hello World\"\n",
    "print(txt.replace(\"H\",\"J\"))"
   ]
  },
  {
   "cell_type": "markdown",
   "id": "322548bf",
   "metadata": {},
   "source": [
    "#### Insert the correct syntax to add a placeholder for the age parameter.\n"
   ]
  },
  {
   "cell_type": "code",
   "execution_count": 34,
   "id": "dbd2a8a9",
   "metadata": {},
   "outputs": [
    {
     "name": "stdout",
     "output_type": "stream",
     "text": [
      "My Name Is John And I am 36 Years Old\n"
     ]
    }
   ],
   "source": [
    "age=36\n",
    "txt=f\"My Name Is John And I am {age} Years Old\"\n",
    "print(txt)"
   ]
  },
  {
   "cell_type": "markdown",
   "id": "b7ab460f",
   "metadata": {},
   "source": [
    "### Exercise on Booleans"
   ]
  },
  {
   "cell_type": "code",
   "execution_count": 35,
   "id": "c297a049",
   "metadata": {},
   "outputs": [
    {
     "name": "stdout",
     "output_type": "stream",
     "text": [
      "True\n"
     ]
    }
   ],
   "source": [
    "print(10>9)"
   ]
  },
  {
   "cell_type": "code",
   "execution_count": 38,
   "id": "a11e7b1f",
   "metadata": {},
   "outputs": [
    {
     "name": "stdout",
     "output_type": "stream",
     "text": [
      "False\n"
     ]
    }
   ],
   "source": [
    "print(10==9)"
   ]
  },
  {
   "cell_type": "code",
   "execution_count": 39,
   "id": "6f4853a9",
   "metadata": {},
   "outputs": [
    {
     "name": "stdout",
     "output_type": "stream",
     "text": [
      "False\n"
     ]
    }
   ],
   "source": [
    "print(10<9)"
   ]
  },
  {
   "cell_type": "markdown",
   "id": "d16a4ea4",
   "metadata": {},
   "source": [
    "#### Write a Python program to print the following string in a specific format"
   ]
  },
  {
   "cell_type": "code",
   "execution_count": 49,
   "id": "420da3d9",
   "metadata": {},
   "outputs": [
    {
     "name": "stdout",
     "output_type": "stream",
     "text": [
      "twinkle,twinkle,little star\n",
      " How I Wonder You Are!\n",
      "\tUp Above The World So High,\n",
      "\tlike a Diamond in The Sky.\n",
      "twinkle twinkle little Star\n",
      "How I Wodner What You Are!\n"
     ]
    }
   ],
   "source": [
    "print(\"twinkle,twinkle,little star\\n How I Wonder You Are!\\n\\tUp Above The World So High,\\n\\tlike a Diamond in The Sky.\\ntwinkle twinkle little Star\\nHow I Wodner What You Are!\")"
   ]
  },
  {
   "cell_type": "markdown",
   "id": "1c216cb1",
   "metadata": {},
   "source": [
    "#### Write a Python program that print the user's first and last name and prints them in reverse order with a space between them."
   ]
  },
  {
   "cell_type": "code",
   "execution_count": 53,
   "id": "664a1c30",
   "metadata": {},
   "outputs": [
    {
     "name": "stdout",
     "output_type": "stream",
     "text": [
      " Enter Your First Name:Mohamed\n",
      " Enter Your Last Name: Adel\n",
      "Adel Mohamed\n"
     ]
    }
   ],
   "source": [
    "first_name= input (\" Enter Your First Name:\")\n",
    "last_name= input (\" Enter Your Last Name: \")\n",
    "print(last_name, first_name )"
   ]
  },
  {
   "cell_type": "markdown",
   "id": "eed7b4e2",
   "metadata": {},
   "source": [
    "#### Write a Python program that calculates the area of a circle "
   ]
  },
  {
   "cell_type": "code",
   "execution_count": 61,
   "id": "0682930c",
   "metadata": {},
   "outputs": [
    {
     "name": "stdout",
     "output_type": "stream",
     "text": [
      "Enter The Radius Of Circle:2.5\n",
      "the area of the circle is : 19.634954084936208\n"
     ]
    }
   ],
   "source": [
    "import math\n",
    "radius=float(input(\"Enter The Radius Of Circle:\"))\n",
    "area=math.pi*radius**2\n",
    "print( \"the area of the circle is :\",area)"
   ]
  },
  {
   "cell_type": "markdown",
   "id": "b3a7d9a5",
   "metadata": {},
   "source": [
    "#### Write a Python program that calculates the area of a circle and radius = 1.1"
   ]
  },
  {
   "cell_type": "code",
   "execution_count": 58,
   "id": "6a3bcb70",
   "metadata": {},
   "outputs": [
    {
     "name": "stdout",
     "output_type": "stream",
     "text": [
      "the area is:  3.7994000000000008\n"
     ]
    }
   ],
   "source": [
    "r=1.1\n",
    "area=3.14*r**2\n",
    "print(\"the area is: \",area)"
   ]
  },
  {
   "cell_type": "markdown",
   "id": "cadb6782",
   "metadata": {},
   "source": [
    "#### Write a Python program that accepts a filename from the user and prints the extension of the file."
   ]
  },
  {
   "cell_type": "code",
   "execution_count": 65,
   "id": "ec339e15",
   "metadata": {},
   "outputs": [
    {
     "name": "stdout",
     "output_type": "stream",
     "text": [
      "Enter The File Name: deegoo\n",
      "deegoo\n"
     ]
    }
   ],
   "source": [
    "file_name=input(\"Enter The File Name: \")\n",
    "f_exts=file_name.split(\".\")\n",
    "print(f_exts[-1])"
   ]
  },
  {
   "cell_type": "markdown",
   "id": "14ab804c",
   "metadata": {},
   "source": [
    "### Exercise 5"
   ]
  },
  {
   "cell_type": "code",
   "execution_count": 87,
   "id": "11871e99",
   "metadata": {},
   "outputs": [
    {
     "name": "stdout",
     "output_type": "stream",
     "text": [
      "List is:  ['A', 'm', 'i', 't']\n",
      "tuple is: ('A', 'm', 'i', 't')\n",
      "Amik\n",
      "['A', 'm', 'i', 't']\n",
      "<class 'str'>\n"
     ]
    }
   ],
   "source": [
    "value=\"Amit\"\n",
    "\n",
    "list_value=list(value)\n",
    "tuple_value=tuple(value)\n",
    "\n",
    "print(\"List is: \",list_value)\n",
    "print(\"tuple is:\",tuple_value)\n",
    "print(value.replace(\"t\",\"k\"))\n",
    "list_value1=str(list_value)\n",
    "print(list_value1)\n",
    "print(type(list_value1))"
   ]
  },
  {
   "cell_type": "markdown",
   "id": "1e66ed40",
   "metadata": {},
   "source": [
    "### Exercise 6"
   ]
  },
  {
   "cell_type": "code",
   "execution_count": 97,
   "id": "b0c36934",
   "metadata": {},
   "outputs": [
    {
     "name": "stdout",
     "output_type": "stream",
     "text": [
      "The First Color is:\n",
      "  Red\n",
      "The Last Color is:\n",
      " Black\n"
     ]
    }
   ],
   "source": [
    "color_list=[\"Red\",\"Green\",\"White\",\"Black\"]\n",
    "First_color= color_list[0]\n",
    "Last_color= color_list[-1]\n",
    "print(\"The First Color is:\\n \",First_color)\n",
    "print(\"The Last Color is:\\n\",Last_color)"
   ]
  },
  {
   "cell_type": "markdown",
   "id": "38e917fd",
   "metadata": {},
   "source": [
    "### Exercise 8"
   ]
  },
  {
   "cell_type": "code",
   "execution_count": 101,
   "id": "2fb149fd",
   "metadata": {},
   "outputs": [
    {
     "name": "stdout",
     "output_type": "stream",
     "text": [
      "True\n"
     ]
    }
   ],
   "source": [
    "name=\"https://www.google.com/\"\n",
    "print(name.startswith(\"https\"))"
   ]
  },
  {
   "cell_type": "code",
   "execution_count": 102,
   "id": "2ee1113f",
   "metadata": {},
   "outputs": [
    {
     "name": "stdout",
     "output_type": "stream",
     "text": [
      "True\n"
     ]
    }
   ],
   "source": [
    "name=\"aimt4536@gmail.com\"\n",
    "print(name.endswith(\".com\"))"
   ]
  },
  {
   "cell_type": "code",
   "execution_count": null,
   "id": "03a2b98c",
   "metadata": {},
   "outputs": [],
   "source": []
  }
 ],
 "metadata": {
  "kernelspec": {
   "display_name": "Python 3 (ipykernel)",
   "language": "python",
   "name": "python3"
  },
  "language_info": {
   "codemirror_mode": {
    "name": "ipython",
    "version": 3
   },
   "file_extension": ".py",
   "mimetype": "text/x-python",
   "name": "python",
   "nbconvert_exporter": "python",
   "pygments_lexer": "ipython3",
   "version": "3.10.9"
  }
 },
 "nbformat": 4,
 "nbformat_minor": 5
}
